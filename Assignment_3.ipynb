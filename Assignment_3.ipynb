{
 "cells": [
  {
   "cell_type": "markdown",
   "metadata": {},
   "source": [
    "# Write a function to compute 5/0 and use try/except to catch the exceptions."
   ]
  },
  {
   "cell_type": "code",
   "execution_count": 4,
   "metadata": {},
   "outputs": [
    {
     "name": "stdout",
     "output_type": "stream",
     "text": [
      "enter number: 5\n",
      "division by zero\n"
     ]
    }
   ],
   "source": [
    "def divide_by_zero():\n",
    "    n=int(input(\"enter number: \"))\n",
    "    result=n/0\n",
    "    return result\n",
    "try:\n",
    "    divide_by_zero()\n",
    "except ZeroDivisionError as z:\n",
    "    print(z) "
   ]
  },
  {
   "cell_type": "markdown",
   "metadata": {},
   "source": [
    "# Implement a Python program to generate all sentences where subject is in [\"Americans\",\"Indians\"] and verb is in [\"Play\", \"watch\"] and the object is in [\"Baseball\",\"cricket\"]."
   ]
  },
  {
   "cell_type": "code",
   "execution_count": 20,
   "metadata": {},
   "outputs": [
    {
     "name": "stdout",
     "output_type": "stream",
     "text": [
      "Americans  play Baseball\n",
      "Americans  play Cricket\n",
      "Americans  watch Baseball\n",
      "Americans  watch Cricket\n",
      "Indians play Baseball\n",
      "Indians play Cricket\n",
      "Indians watch Baseball\n",
      "Indians watch Cricket\n"
     ]
    }
   ],
   "source": [
    "subjects=[\"Americans \",\"Indians\"]\n",
    "verbs=[\"play\",\"watch\"]\n",
    "objects=[\"Baseball\",\"Cricket\"]\n",
    "sentence_list=[]\n",
    "for i in subjects:\n",
    "    for j in verbs:\n",
    "        for k in objects:\n",
    "            sentence_list.append(i+\" \"+j+\" \"+ k)\n",
    "sentence_list          \n",
    "for sentence in sentence_list:\n",
    "    print(sentence)"
   ]
  },
  {
   "cell_type": "code",
   "execution_count": 21,
   "metadata": {},
   "outputs": [
    {
     "name": "stdout",
     "output_type": "stream",
     "text": [
      "Americans  play Baseball\n",
      "Americans  play Cricket\n",
      "Americans  watch Baseball\n",
      "Americans  watch Cricket\n",
      "Indians play Baseball\n",
      "Indians play Cricket\n",
      "Indians watch Baseball\n",
      "Indians watch Cricket\n"
     ]
    }
   ],
   "source": [
    "sentence_list=[(i+\" \"+j+\" \"+ k) for i in subjects for j in verbs for k in objects]\n",
    "for sentence in sentence_list:\n",
    "    print(sentence)"
   ]
  },
  {
   "cell_type": "markdown",
   "metadata": {},
   "source": [
    "# Write a function so that the columns of the output matrix are powers of the input vector.The order of the powers is determined by the increasing boolean argument. Specifically, when increasing is False, the i-th output column is the input vector raised element-wise to the power of N - i - 1."
   ]
  },
  {
   "cell_type": "code",
   "execution_count": 43,
   "metadata": {},
   "outputs": [
    {
     "name": "stdout",
     "output_type": "stream",
     "text": [
      "enter dimension of matrix: 4\n",
      "enter elements of input vector: 2 4 6 8\n",
      "[[8, 4, 2, 1], [64, 16, 4, 1], [216, 36, 6, 1], [512, 64, 8, 1]]\n"
     ]
    }
   ],
   "source": [
    "N=int(input(\"enter dimension of matrix: \"))\n",
    "values=input(\"enter elements of input vector: \")\n",
    "input_vector=values.split()\n",
    "input_vector_list=list(input_vector)\n",
    "output_matrix=[]\n",
    "def gen_vandermonde_matrix(N,input_vector,increasing):\n",
    "    for i in input_vector_list:\n",
    "        row=[]\n",
    "        for j in range(0,4):\n",
    "            if not increasing:\n",
    "                power=len(input_vector_list)-j-1\n",
    "            elif increasing:\n",
    "                power=j\n",
    "            row.append(int(i)**power)    \n",
    "        output_matrix.append(row)\n",
    "    return output_matrix\n",
    "out_dec=gen_vandermonde_matrix(N,input_vector_list,False)\n",
    "print(out_dec)\n",
    "\n"
   ]
  },
  {
   "cell_type": "code",
   "execution_count": null,
   "metadata": {},
   "outputs": [],
   "source": []
  }
 ],
 "metadata": {
  "kernelspec": {
   "display_name": "Python 3",
   "language": "python",
   "name": "python3"
  },
  "language_info": {
   "codemirror_mode": {
    "name": "ipython",
    "version": 3
   },
   "file_extension": ".py",
   "mimetype": "text/x-python",
   "name": "python",
   "nbconvert_exporter": "python",
   "pygments_lexer": "ipython3",
   "version": "3.7.4"
  }
 },
 "nbformat": 4,
 "nbformat_minor": 2
}
